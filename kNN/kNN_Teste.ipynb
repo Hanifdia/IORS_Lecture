{
  "nbformat": 4,
  "nbformat_minor": 0,
  "metadata": {
    "colab": {
      "provenance": [],
      "authorship_tag": "ABX9TyPo1Q7mo+bI2PFRNgzht5kc",
      "include_colab_link": true
    },
    "kernelspec": {
      "name": "python3",
      "display_name": "Python 3"
    },
    "language_info": {
      "name": "python"
    }
  },
  "cells": [
    {
      "cell_type": "markdown",
      "metadata": {
        "id": "view-in-github",
        "colab_type": "text"
      },
      "source": [
        "<a href=\"https://colab.research.google.com/github/Hanifdia/IORS_Lecture/blob/main/kNN/kNN_Teste.ipynb\" target=\"_parent\"><img src=\"https://colab.research.google.com/assets/colab-badge.svg\" alt=\"Open In Colab\"/></a>"
      ]
    },
    {
      "cell_type": "code",
      "execution_count": 2,
      "metadata": {
        "id": "jBNAaG-Rdbza"
      },
      "outputs": [],
      "source": [
        "from osgeo import gdal\n",
        "import pandas as pd\n",
        "import numpy as np\n",
        "import matplotlib.pyplot as plt\n",
        "import matplotlib\n",
        "from scipy.spatial import distance\n",
        "\n",
        "\n",
        "# gdal constants\n",
        "from gdalconst import *\n",
        "\n",
        "\n",
        "# inform to use GDAL exceptions\n",
        "gdal.UseExceptions()"
      ]
    },
    {
      "cell_type": "code",
      "source": [
        "# Import image dataset\n",
        "fname_img = \"Test_Data.tif\"\n",
        "! gdown --id 1DsBMWM-njnfZ7ac64Gwq50-NnExyACAE"
      ],
      "metadata": {
        "id": "TnGENvfAd05r"
      },
      "execution_count": null,
      "outputs": []
    },
    {
      "cell_type": "code",
      "source": [
        "# open dataset\n",
        "dataset = gdal.Open(fname_img, GA_ReadOnly)"
      ],
      "metadata": {
        "id": "Xytoftz2goHT"
      },
      "execution_count": 56,
      "outputs": []
    },
    {
      "cell_type": "code",
      "source": [
        "# retrieve metadata from raster\n",
        "rows = dataset.RasterYSize\n",
        "columns = dataset.RasterXSize\n",
        "N = rows * columns\n",
        "bands = dataset.RasterCount\n",
        "\n",
        "# print basic metadata\n",
        "print (\"image metadata:\")\n",
        "print (rows, \"rows x\", columns, \"columns x\", bands, \"bands\")"
      ],
      "metadata": {
        "colab": {
          "base_uri": "https://localhost:8080/"
        },
        "id": "w7nB0EicgqR8",
        "outputId": "8b5493f8-16e7-4c04-c56f-0bdda58df23d"
      },
      "execution_count": 57,
      "outputs": [
        {
          "output_type": "stream",
          "name": "stdout",
          "text": [
            "image metadata:\n",
            "769 rows x 1147 columns x 4 bands\n"
          ]
        }
      ]
    },
    {
      "cell_type": "code",
      "source": [
        "# parameters for kNN algorithm\n",
        "k = 5"
      ],
      "metadata": {
        "id": "Td-btZ-Qgqtx"
      },
      "execution_count": 58,
      "outputs": []
    },
    {
      "cell_type": "code",
      "source": [
        "# retrieve arrays from input image, 3 channels in this case\n",
        "array_R = dataset.GetRasterBand(1).ReadAsArray().astype(float)\n",
        "array_G = dataset.GetRasterBand(2).ReadAsArray().astype(float)\n",
        "array_B = dataset.GetRasterBand(3).ReadAsArray().astype(float)\n",
        "array_RGB = np.zeros((rows, columns, bands), dtype=np.uint8)\n",
        "array_RGB[:,:,0] = array_R\n",
        "array_RGB[:,:,1] = array_G\n",
        "array_RGB[:,:,2] = array_B\n",
        "array_RGB_copy = array_RGB.copy()"
      ],
      "metadata": {
        "id": "3K4OdsrEgy9x"
      },
      "execution_count": 60,
      "outputs": []
    },
    {
      "cell_type": "code",
      "source": [
        "# Import Training data (Label Data)\n",
        "\n",
        "! gdown --id 1cxs1vwnhRbV5u7e6dLJATJnY8q6o2_Gu\n",
        "samples = pd.read_csv(\"Samples.csv\").values.tolist()\n",
        "\n",
        "array_R_flatten = array_R.flatten()\n",
        "array_G_flatten = array_G.flatten()\n",
        "array_B_flatten = array_B.flatten()\n",
        "\n"
      ],
      "metadata": {
        "id": "0vwYR-Y-g1Yh"
      },
      "execution_count": null,
      "outputs": []
    },
    {
      "cell_type": "code",
      "source": [
        "# kNN Classification, sorting data, and category assignment base on k nearest neighbour\n",
        "classification = []\n",
        "for pixel in range(len(array_R_flatten)):\n",
        "  r = array_R_flatten[pixel]\n",
        "  g = array_G_flatten[pixel]\n",
        "  b = array_B_flatten[pixel]\n",
        "  eudistance = []\n",
        "  for sample in samples:\n",
        "    row_sample = sample[1]\n",
        "    column_sample = sample[0]\n",
        "    r_sample = array_RGB_copy[row_sample, column_sample, 0]\n",
        "    g_sample = array_RGB_copy[row_sample, column_sample, 1]\n",
        "    b_sample = array_RGB_copy[row_sample, column_sample, 2]\n",
        "    dst = distance.euclidean(np.array((r, g, b)).astype(float), np.array((r_sample, g_sample, b_sample)).astype(float))\n",
        "    eudistance.append([dst,sample[2]])\n",
        "    #eudistance.append([dst,sample[2],np.array((r, g, b)).astype(float), np.array((r_sample, g_sample, b_sample)).astype(float)])\n",
        "  sortdata = sorted(eudistance)\n",
        "  classe = []\n",
        "  for i in sortdata[:k]:\n",
        "      classe.append(i[1])\n",
        "  cf = max(classe,key=classe.count)  \n",
        "  \n",
        "  classification.append(cf)"
      ],
      "metadata": {
        "id": "n_BUFK6qiGey"
      },
      "execution_count": 53,
      "outputs": []
    },
    {
      "cell_type": "code",
      "source": [
        "## Convert kNN Classification result into array and export\n",
        "ax = np.array(classification)\n",
        "axx = ax.reshape(rows,columns)\n",
        "np.savetxt(\"final.csv\", axx, delimiter=\",\")"
      ],
      "metadata": {
        "id": "AHgGSIWkiXwx"
      },
      "execution_count": null,
      "outputs": []
    },
    {
      "cell_type": "code",
      "source": [
        "import matplotlib.pyplot as plt\n",
        "import matplotlib.image as mpimg\n",
        "\n",
        "plt.hist(axx.ravel())\n"
      ],
      "metadata": {
        "id": "YgfVU6Brkukg"
      },
      "execution_count": null,
      "outputs": []
    },
    {
      "cell_type": "code",
      "source": [
        "## Display Classification Image Result and export\n",
        "plt.imshow(axx,'Accent')\n",
        "plt.colorbar()\n",
        "plt.savefig('Classification_R.png',dpi=500)"
      ],
      "metadata": {
        "id": "o8HN8rHP9m5S"
      },
      "execution_count": null,
      "outputs": []
    },
    {
      "cell_type": "code",
      "source": [
        "##Import Verification Label Data\n",
        "! gdown --id 1CbKp7WiiAKxBlPQPgZKrAuc9lSSsHqv8\n",
        "Verify = pd.read_csv(\"Verify_data.csv\",header=None).values.tolist()"
      ],
      "metadata": {
        "colab": {
          "base_uri": "https://localhost:8080/"
        },
        "id": "GyaGLQdJ-UqA",
        "outputId": "64c840da-0047-458b-ca0c-5ec50021559f"
      },
      "execution_count": 68,
      "outputs": [
        {
          "output_type": "stream",
          "name": "stdout",
          "text": [
            "/usr/local/lib/python3.8/dist-packages/gdown/cli.py:127: FutureWarning: Option `--id` was deprecated in version 4.3.1 and will be removed in 5.0. You don't need to pass it anymore to use a file ID.\n",
            "  warnings.warn(\n",
            "Downloading...\n",
            "From: https://drive.google.com/uc?id=1CbKp7WiiAKxBlPQPgZKrAuc9lSSsHqv8\n",
            "To: /content/Verify_data.csv\n",
            "100% 2.14k/2.14k [00:00<00:00, 3.31MB/s]\n"
          ]
        }
      ]
    },
    {
      "cell_type": "code",
      "source": [
        "##Import Classification array result\n",
        "! gdown --id 1RDHNeLdGqBEXl9S4ScHlG7dl9f71zAIL\n",
        "axx = np.array(pd.read_csv(\"final.csv\",header=None))"
      ],
      "metadata": {
        "colab": {
          "base_uri": "https://localhost:8080/"
        },
        "id": "cyxlhD1iCReT",
        "outputId": "3de945b0-443b-4fee-ce06-9276091ca4e9"
      },
      "execution_count": 69,
      "outputs": [
        {
          "output_type": "stream",
          "name": "stdout",
          "text": [
            "/usr/local/lib/python3.8/dist-packages/gdown/cli.py:127: FutureWarning: Option `--id` was deprecated in version 4.3.1 and will be removed in 5.0. You don't need to pass it anymore to use a file ID.\n",
            "  warnings.warn(\n",
            "Downloading...\n",
            "From: https://drive.google.com/uc?id=1RDHNeLdGqBEXl9S4ScHlG7dl9f71zAIL\n",
            "To: /content/final.csv\n",
            "100% 22.1M/22.1M [00:00<00:00, 214MB/s]\n"
          ]
        }
      ]
    },
    {
      "cell_type": "code",
      "source": [
        "# Extract array value from classification array and verification label data\n",
        "\n",
        "check = []\n",
        "for ver in Verify:\n",
        "    row_sample = ver[1]\n",
        "    column_sample = ver[0]\n",
        "    #check.append([column_sample,row_sample,axx[row_sample, column_sample]])\n",
        "    check.append(axx[row_sample, column_sample])\n",
        "\n",
        "ver = []\n",
        "for i in range(len(Verify)):\n",
        "  ver.append(Verify[i][2])"
      ],
      "metadata": {
        "id": "HuyL0C66DA6S"
      },
      "execution_count": 72,
      "outputs": []
    },
    {
      "cell_type": "code",
      "source": [
        "from sklearn.metrics import confusion_matrix\n",
        "confusion_matrix(check, ver)"
      ],
      "metadata": {
        "colab": {
          "base_uri": "https://localhost:8080/"
        },
        "id": "GkIGXXGU3iWq",
        "outputId": "e42d7f8c-d569-480c-ace9-6062e38f4ce8"
      },
      "execution_count": 76,
      "outputs": [
        {
          "output_type": "execute_result",
          "data": {
            "text/plain": [
              "array([[34,  2,  0,  0],\n",
              "       [ 3, 48,  0,  0],\n",
              "       [13,  0, 49, 16],\n",
              "       [ 0,  0,  1, 34]])"
            ]
          },
          "metadata": {},
          "execution_count": 76
        }
      ]
    },
    {
      "cell_type": "code",
      "source": [
        "from sklearn.metrics import accuracy_score\n",
        "accuracy_score(check,ver)"
      ],
      "metadata": {
        "colab": {
          "base_uri": "https://localhost:8080/"
        },
        "id": "7xWDV5lUAaNC",
        "outputId": "e94eda10-f981-4d0f-93e8-3a89072f592a"
      },
      "execution_count": 75,
      "outputs": [
        {
          "output_type": "execute_result",
          "data": {
            "text/plain": [
              "0.825"
            ]
          },
          "metadata": {},
          "execution_count": 75
        }
      ]
    }
  ]
}