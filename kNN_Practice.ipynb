{
  "nbformat": 4,
  "nbformat_minor": 0,
  "metadata": {
    "colab": {
      "provenance": [],
      "authorship_tag": "ABX9TyOAzi0tqbHpOio7Hzl/lR+8",
      "include_colab_link": true
    },
    "kernelspec": {
      "name": "python3",
      "display_name": "Python 3"
    },
    "language_info": {
      "name": "python"
    }
  },
  "cells": [
    {
      "cell_type": "markdown",
      "metadata": {
        "id": "view-in-github",
        "colab_type": "text"
      },
      "source": [
        "<a href=\"https://colab.research.google.com/github/Hanifdia/IORS_Lecture/blob/main/kNN_Practice.ipynb\" target=\"_parent\"><img src=\"https://colab.research.google.com/assets/colab-badge.svg\" alt=\"Open In Colab\"/></a>"
      ]
    },
    {
      "cell_type": "code",
      "execution_count": 73,
      "metadata": {
        "id": "m66D_lrMBDV2"
      },
      "outputs": [],
      "source": [
        "from osgeo import gdal\n",
        "import os.path\n",
        "import math\n",
        "import numpy as np\n",
        "import matplotlib.pyplot as plt\n",
        "import matplotlib\n",
        "from mpl_toolkits.axes_grid1 import make_axes_locatable\n",
        "from mpl_toolkits.mplot3d import Axes3D"
      ]
    },
    {
      "cell_type": "code",
      "source": [
        "# gdal constants\n",
        "from gdalconst import *\n",
        "\n",
        "# inform to use GDAL exceptions\n",
        "gdal.UseExceptions()"
      ],
      "metadata": {
        "id": "6NzoQk1BCv6l"
      },
      "execution_count": 74,
      "outputs": []
    },
    {
      "cell_type": "code",
      "source": [
        "fname_img = \"Sentinel2_220514.tif\"\n",
        "! gdown --id 1juw0NN5MuPm_POABmo7BeJpiLXEXlha1"
      ],
      "metadata": {
        "colab": {
          "base_uri": "https://localhost:8080/"
        },
        "id": "KD66M1SDC5Eg",
        "outputId": "c6bf439d-1fef-4d66-f53b-88ab9174fc44"
      },
      "execution_count": 75,
      "outputs": [
        {
          "output_type": "stream",
          "name": "stdout",
          "text": [
            "/usr/local/lib/python3.7/dist-packages/gdown/cli.py:131: FutureWarning: Option `--id` was deprecated in version 4.3.1 and will be removed in 5.0. You don't need to pass it anymore to use a file ID.\n",
            "  category=FutureWarning,\n",
            "Downloading...\n",
            "From: https://drive.google.com/uc?id=1juw0NN5MuPm_POABmo7BeJpiLXEXlha1\n",
            "To: /content/Sentinel2_220514.tif\n",
            "100% 17.1M/17.1M [00:00<00:00, 111MB/s] \n"
          ]
        }
      ]
    },
    {
      "cell_type": "code",
      "source": [
        "# open dataset\n",
        "#filename = \"CBERS_4_MUX_20170810_152_123_L4_BANDS765_crop_contrast.tif\"\n",
        "dataset = gdal.Open(fname_img, GA_ReadOnly)"
      ],
      "metadata": {
        "id": "Eo0aHQNsDNoz"
      },
      "execution_count": 76,
      "outputs": []
    },
    {
      "cell_type": "code",
      "source": [
        "# retrieve metadata from raster\n",
        "rows = dataset.RasterYSize\n",
        "columns = dataset.RasterXSize\n",
        "N = rows * columns\n",
        "bands = dataset.RasterCount"
      ],
      "metadata": {
        "id": "pVwMeALVDZ_y"
      },
      "execution_count": 77,
      "outputs": []
    },
    {
      "cell_type": "code",
      "source": [
        "# print basic metadata\n",
        "print (\"image metadata:\")\n",
        "print (rows, \"rows x\", columns, \"columns x\", bands, \"bands\")"
      ],
      "metadata": {
        "colab": {
          "base_uri": "https://localhost:8080/"
        },
        "id": "goSfrPwxDm7S",
        "outputId": "fba9e18a-7b15-4cca-83a6-521c54896e48"
      },
      "execution_count": 78,
      "outputs": [
        {
          "output_type": "stream",
          "name": "stdout",
          "text": [
            "image metadata:\n",
            "1872 rows x 2279 columns x 4 bands\n"
          ]
        }
      ]
    },
    {
      "cell_type": "code",
      "source": [
        "rows*columns"
      ],
      "metadata": {
        "colab": {
          "base_uri": "https://localhost:8080/"
        },
        "id": "miaTP-XJL0KQ",
        "outputId": "19dfcd4c-3d50-4f0f-d794-6ba86ef6f594"
      },
      "execution_count": 79,
      "outputs": [
        {
          "output_type": "execute_result",
          "data": {
            "text/plain": [
              "4266288"
            ]
          },
          "metadata": {},
          "execution_count": 79
        }
      ]
    },
    {
      "cell_type": "code",
      "source": [
        "def compute_euclidean_distance(a, b):\n",
        "    c = b - a\n",
        "    d = c * c\n",
        "    e = d.sum()\n",
        "    \n",
        "    return np.sqrt(e)"
      ],
      "metadata": {
        "id": "ciqOdOixGaYv"
      },
      "execution_count": 80,
      "outputs": []
    },
    {
      "cell_type": "code",
      "source": [
        "def knn(samples, r, g, b):\n",
        "\n",
        "    # computing distances of input (r, g, b) to all samples\n",
        "    distances = {}\n",
        "    for sample in samples:\n",
        "        row_sample = sample[1]\n",
        "        column_sample = sample[0]\n",
        "        r_sample = array_RGB_copy[row_sample, column_sample, 0]\n",
        "        g_sample = array_RGB_copy[row_sample, column_sample, 1]\n",
        "        b_sample = array_RGB_copy[row_sample, column_sample, 2]\n",
        "        euclidean_distance = compute_euclidean_distance(np.array((r, g, b)).astype(float), np.array((r_sample, g_sample, b_sample)).astype(float))\n",
        "        # print('sample', sample, r_sample, g_sample, b_sample, 'euclidean_distance', euclidean_distance)\n",
        "        distances[euclidean_distance] = sample[2]\n",
        "    # print('inside knn', distances)\n",
        "    i_knn = 1\n",
        "    classification = None\n",
        "    knn_classifications = []\n",
        "    for distance in sorted(distances.keys()):\n",
        "        if i_knn > k:\n",
        "            break\n",
        "        i_knn = i_knn + 1\n",
        "        if distance < actual_max_distance:\n",
        "            knn_classifications.append(distances[distance])\n",
        "    # print('set(knn_classifications)', set(knn_classifications))\n",
        "    classification = 0\n",
        "    if len(knn_classifications) > 0:\n",
        "        classification = max(set(knn_classifications), key=knn_classifications.count)\n",
        "        # print('actual_max_distance', actual_max_distance, 'some elements classified')        \n",
        "    # else:\n",
        "        # print('actual_max_distance', actual_max_distance, 'no elements classified')\n",
        "    # print('knn_classifications', knn_classifications, 'and classification', classification)\n",
        "\n",
        "    return classification"
      ],
      "metadata": {
        "id": "gY9tzg_cGbj9"
      },
      "execution_count": 81,
      "outputs": []
    },
    {
      "cell_type": "code",
      "source": [
        "# variables to control graph rotation and zoom in animation\n",
        "figure_border = 25\n",
        "figure_steps = 0\n",
        "jumps = columns / 2\n",
        "j = 0\n",
        "angle = 20\n",
        "angle_delta = 0.125\n",
        "max_angle = 60\n",
        "min_angle = 10\n",
        "dist_delta = -0.01\n",
        "max_dist = 8.5\n",
        "min_dist = 4\n",
        "dist = max_dist\n",
        "animation_steps = 2000"
      ],
      "metadata": {
        "id": "DckQFC66Doui"
      },
      "execution_count": 82,
      "outputs": []
    },
    {
      "cell_type": "code",
      "source": [
        "# parameters for kNN algorithm\n",
        "k = 3\n",
        "max_distance = 100\n",
        "min_distance = 1\n",
        "actual_max_distance = min_distance\n",
        "step_distance = max_distance / animation_steps"
      ],
      "metadata": {
        "id": "SFeiHkBTEXei"
      },
      "execution_count": 83,
      "outputs": []
    },
    {
      "cell_type": "code",
      "source": [
        "# parameters for colormap used by classification\n",
        "default_colormap = 'tab20'\n",
        "colormap_vmax = 20\n",
        "offset = 50"
      ],
      "metadata": {
        "id": "Ht6ESYMkEbES"
      },
      "execution_count": 84,
      "outputs": []
    },
    {
      "cell_type": "code",
      "source": [
        "# retrieve arrays from input image, 3 channels in this case\n",
        "array_R = dataset.GetRasterBand(1).ReadAsArray().astype(float)\n",
        "array_G = dataset.GetRasterBand(2).ReadAsArray().astype(float)\n",
        "array_B = dataset.GetRasterBand(3).ReadAsArray().astype(float)\n",
        "array_RGB = np.zeros((rows, columns, bands), dtype=np.uint8)\n",
        "array_RGB[:,:,0] = array_R\n",
        "array_RGB[:,:,1] = array_G\n",
        "array_RGB[:,:,2] = array_B\n",
        "array_RGB_copy = array_RGB.copy()\n",
        "\n",
        "array_RGB[array_RGB > offset] -= offset\n",
        "array_RGB[array_RGB < offset] = 0"
      ],
      "metadata": {
        "id": "aSKeRzQ9EdOy"
      },
      "execution_count": 85,
      "outputs": []
    },
    {
      "cell_type": "code",
      "source": [
        "# slightly change position of RGB for better \n",
        "# visualization of scatterplot\n",
        "array_R += np.random.uniform(low=-0.5, high=0.5, size=array_R.shape)\n",
        "array_G += np.random.uniform(low=-0.5, high=0.5, size=array_G.shape)\n",
        "array_B += np.random.uniform(low=-0.5, high=0.5, size=array_B.shape)"
      ],
      "metadata": {
        "id": "iicCBmI1Ehii"
      },
      "execution_count": 86,
      "outputs": []
    },
    {
      "cell_type": "code",
      "source": [
        "samples = []\n",
        "samples.append((913, 621, 2))\n",
        "samples.append((930, 629, 2))\n",
        "samples.append((922, 623, 2))\n",
        "samples.append((104, 1658, 4))\n",
        "samples.append((106, 1667, 4))\n",
        "samples.append((116, 1674, 4))\n",
        "samples.append((1050, 1066, 6))\n",
        "samples.append((1051, 1112, 6))\n",
        "samples.append((1056, 1096, 6))\n",
        "\n",
        "all_classes = (6, 4, 2)\n",
        "colors = {}\n",
        "cmap = matplotlib.cm.get_cmap(default_colormap)\n",
        "for one_class in all_classes:\n",
        "    colors[one_class] = cmap(one_class)\n",
        "\n",
        "array_R_flatten = array_R.flatten()\n",
        "array_G_flatten = array_G.flatten()\n",
        "array_B_flatten = array_B.flatten()\n",
        "\n",
        "actual_samples = samples\n"
      ],
      "metadata": {
        "id": "WQ1VnhntEmBg"
      },
      "execution_count": 87,
      "outputs": []
    },
    {
      "cell_type": "code",
      "source": [
        "animation_steps\n",
        "actual_samples"
      ],
      "metadata": {
        "colab": {
          "base_uri": "https://localhost:8080/"
        },
        "id": "wvoSNoQHF8Qm",
        "outputId": "b66c01df-5c0e-4f12-c4dc-b96321584de2"
      },
      "execution_count": 88,
      "outputs": [
        {
          "output_type": "execute_result",
          "data": {
            "text/plain": [
              "[(913, 621, 2),\n",
              " (930, 629, 2),\n",
              " (922, 623, 2),\n",
              " (104, 1658, 4),\n",
              " (106, 1667, 4),\n",
              " (116, 1674, 4),\n",
              " (1050, 1066, 6),\n",
              " (1051, 1112, 6),\n",
              " (1056, 1096, 6)]"
            ]
          },
          "metadata": {},
          "execution_count": 88
        }
      ]
    },
    {
      "cell_type": "code",
      "source": [
        "for animation_step in range(animation_steps):\n",
        "\n",
        "    # create array for classification\n",
        "    array_classification = np.zeros((rows, columns)).flatten()\n",
        "\n",
        "    # classify all pixels\n",
        "    for i in range(len(array_R_flatten)):\n",
        "        r = array_R_flatten[i]\n",
        "        g = array_G_flatten[i]\n",
        "        b = array_B_flatten[i]\n",
        "        array_classification[i] = knn(actual_samples, r, g, b)\n",
        "        # print('pixel', i, array_classification[i], 'with RGB', r, g, b)\n",
        "\n",
        "    # display partial result in png animation\n",
        "    output_figure_path = 'animation/scatterplot_' + str(figure_steps).zfill(6) + '.png'\n",
        "\n",
        "    # create figure with 2 columns\n",
        "    output_fig = plt.figure(figsize=(10, 4))\n",
        "    input_ax = output_fig.add_subplot(121)\n",
        "    scatterplot_ax = output_fig.add_subplot(122, projection='3d')\n",
        "    \n",
        "    n = len(actual_samples)\n",
        "    input_ax.set_title(f'kNN (k$={k}$) result, {n} samples, max distance {int(actual_max_distance)}', fontsize=8)\n",
        "    input_ax.set_xlim([0 - figure_border, columns + figure_border])\n",
        "    input_ax.set_ylim([rows + figure_border, 0 - figure_border])\n",
        "    input_ax.xaxis.set_tick_params(labelsize=5) \n",
        "    input_ax.yaxis.set_tick_params(labelsize=5)\n",
        "    matplotlib.rc('xtick', labelsize=10) \n",
        "    matplotlib.rc('ytick', labelsize=20) \n",
        "\n",
        "    # draw input image with current classification\n",
        "    image_classification = np.reshape(array_classification, (rows, columns))\n",
        "    image_to_show = array_RGB_copy.copy()\n",
        "\n",
        "    # get pixels for histogram and for classification\n",
        "  #  for one_class in all_classes:\n",
        "#\n",
        " #       if one_class != 0:\n",
        "  #          image_to_show[:,:,0] = np.where(image_classification == one_class, 255 * colors[one_class][0], image_to_show[:,:,0])\n",
        "   #         image_to_show[:,:,1] = np.where(image_classification == one_class, 255 * colors[one_class][1], image_to_show[:,:,1])\n",
        "    #        image_to_show[:,:,2] = np.where(image_classification == one_class, 255 * colors[one_class][2], image_to_show[:,:,2])\n",
        "\n",
        "#        reds = array_R_flatten[array_classification == one_class].astype(float)\n",
        " #       greens = array_G_flatten[array_classification == one_class].astype(float)\n",
        "  #      blues = array_B_flatten[array_classification == one_class].astype(float)\n",
        "\n",
        "   #     scatterplot_ax.scatter(reds, greens, blues, marker='.', s=0.3, c=np.array(colors[one_class]).reshape(1,-1))\n",
        "    #    scatterplot_ax.set_xlabel('red', fontsize=5)\n",
        "     #   scatterplot_ax.xaxis.label.set_color('red')\n",
        "      #  scatterplot_ax.xaxis.set_tick_params(labelsize=5)\n",
        "   #     scatterplot_ax.set_ylabel('green', fontsize=5)\n",
        "   #     scatterplot_ax.yaxis.label.set_color('green')\n",
        "    #    scatterplot_ax.yaxis.set_tick_params(labelsize=5)\n",
        "    #    scatterplot_ax.set_zlabel('blue', fontsize=5)\n",
        "    #    scatterplot_ax.zaxis.label.set_color('blue')\n",
        "     #   scatterplot_ax.zaxis.set_tick_params(labelsize=5)\n",
        "\n",
        "        # clean up\n",
        "      #  reds = None\n",
        "       # greens = None\n",
        "       # blues = None\n",
        "\n",
        "    # input_ax.imshow(image_classification, cmap=default_colormap, vmin=0, vmax=colormap_vmax - 1) #, alpha=0.5)\n",
        "    input_ax.imshow(image_to_show)"
      ],
      "metadata": {
        "id": "SLhuff31HJwx"
      },
      "execution_count": null,
      "outputs": []
    },
    {
      "cell_type": "code",
      "source": [],
      "metadata": {
        "id": "Krw6XuYfHt7h"
      },
      "execution_count": null,
      "outputs": []
    }
  ]
}