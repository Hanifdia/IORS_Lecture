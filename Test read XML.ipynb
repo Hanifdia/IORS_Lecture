{
 "cells": [
  {
   "cell_type": "code",
   "execution_count": 212,
   "id": "61da02a2",
   "metadata": {},
   "outputs": [
    {
     "data": {
      "text/plain": [
       "str"
      ]
     },
     "execution_count": 212,
     "metadata": {},
     "output_type": "execute_result"
    }
   ],
   "source": [
    "from lxml import objectify\n",
    "from datetime import datetime\n",
    "import pandas as pd\n",
    "from collections import OrderedDict\n",
    "import numpy as np\n",
    "import pyproj\n",
    "xmlfiles = 'MTD_TL.xml'\n",
    "resolution = '60'\n",
    "\n",
    "type(resolution)\n"
   ]
  },
  {
   "cell_type": "code",
   "execution_count": 161,
   "id": "375afa3a",
   "metadata": {},
   "outputs": [],
   "source": [
    "#Read the scene paramater base on XML Files\n",
    "xmlroot = objectify.parse(xmlfiles).getroot()\n",
    "date = datetime.strptime(str(xmlroot.General_Info.find('SENSING_TIME')),'%Y-%m-%dT%H:%M:%S.%fZ')\n",
    "geocoding = xmlroot.Geometric_Info.find('Tile_Geocoding')\n",
    "tileangles = xmlroot.Geometric_Info.find('Tile_Angles')\n",
    "tile_id = str(xmlroot.General_Info.find('TILE_ID')[0])\n",
    "platform = tile_id[:3]\n",
    "\n",
    "band_names = {\n",
    "                443 : 'B01', 490 : 'B02',\n",
    "                560 : 'B03', 665 : 'B04',\n",
    "                705 : 'B05', 740 : 'B06',\n",
    "                783 : 'B07', 842 : 'B08',\n",
    "                865 : 'B8A', 945 : 'B09',\n",
    "                1375: 'B10', 1610: 'B11',\n",
    "                2190: 'B12',\n",
    "                }"
   ]
  },
  {
   "cell_type": "code",
   "execution_count": 129,
   "id": "24030218",
   "metadata": {},
   "outputs": [
    {
     "name": "stdout",
     "output_type": "stream",
     "text": [
      "\n"
     ]
    }
   ],
   "source": [
    "#Determine the scene resolution size\n",
    "for e in geocoding.findall('Size'):\n",
    "    if e.attrib['resolution'] == str(resolution):\n",
    "        totalheight = int(e.find('NROWS').text)\n",
    "        totalwidth = int(e.find('NCOLS').text)\n",
    "        break"
   ]
  },
  {
   "cell_type": "code",
   "execution_count": 162,
   "id": "6f139333",
   "metadata": {},
   "outputs": [
    {
     "data": {
      "text/plain": [
       "dict"
      ]
     },
     "execution_count": 162,
     "metadata": {},
     "output_type": "execute_result"
    }
   ],
   "source": [
    "b=0\n",
    "geocoding.find('resolution')\n",
    "\n",
    "type(band_names)"
   ]
  },
  {
   "cell_type": "code",
   "execution_count": null,
   "id": "6e9be8be",
   "metadata": {},
   "outputs": [],
   "source": []
  },
  {
   "cell_type": "code",
   "execution_count": 198,
   "id": "d40b5f0a",
   "metadata": {},
   "outputs": [],
   "source": [
    "# Band Process\n",
    "srf_data = pd.read_csv('S2-SRF_COPE-GSEG-EOPG-TN-15-0007_3.0_S2A.csv')\n",
    "wav = srf_data.SR_WL\n",
    "\n",
    "wave = OrderedDict()\n",
    "\n",
    "for a,b in band_names.items():\n",
    "    col = platform + '_SR_AV_' + b.replace('B0', 'B')\n",
    "    srf = srf_data[col]\n",
    "    wav_eq = np.trapz(wav*srf)/np.trapz(srf) #Equation Trapezoid\n",
    "    wave[b] = wav_eq"
   ]
  },
  {
   "cell_type": "code",
   "execution_count": 211,
   "id": "6654f4a1",
   "metadata": {},
   "outputs": [
    {
     "data": {
      "text/plain": [
       "442.6950461040809"
      ]
     },
     "execution_count": 211,
     "metadata": {},
     "output_type": "execute_result"
    }
   ],
   "source": [
    "wave['B01']"
   ]
  },
  {
   "cell_type": "code",
   "execution_count": null,
   "id": "cf1f8432",
   "metadata": {},
   "outputs": [],
   "source": []
  },
  {
   "cell_type": "code",
   "execution_count": 220,
   "id": "bfcc3341",
   "metadata": {},
   "outputs": [],
   "source": [
    "WG = np.linspace(100,150,5)"
   ]
  },
  {
   "cell_type": "code",
   "execution_count": 221,
   "id": "ced08ab2",
   "metadata": {},
   "outputs": [
    {
     "data": {
      "text/plain": [
       "array([100. , 112.5, 125. , 137.5, 150. ])"
      ]
     },
     "execution_count": 221,
     "metadata": {},
     "output_type": "execute_result"
    }
   ],
   "source": [
    "WG"
   ]
  },
  {
   "cell_type": "code",
   "execution_count": 224,
   "id": "99b20747",
   "metadata": {},
   "outputs": [
    {
     "name": "stdout",
     "output_type": "stream",
     "text": [
      "Python Program for Convert Ramses Raw Data to .csv and image file\n",
      "Which program you want to choose? (1=Reflectance, 2=Rrs): 2\n"
     ]
    }
   ],
   "source": [
    "print(\"Python Program for Convert Ramses Raw Data to .csv and image file\")\n",
    "Prog = input(\"Which program you want to choose? (1=Reflectance, 2=Rrs): \")"
   ]
  },
  {
   "cell_type": "code",
   "execution_count": null,
   "id": "46732117",
   "metadata": {},
   "outputs": [],
   "source": []
  }
 ],
 "metadata": {
  "kernelspec": {
   "display_name": "Python 3 (ipykernel)",
   "language": "python",
   "name": "python3"
  },
  "language_info": {
   "codemirror_mode": {
    "name": "ipython",
    "version": 3
   },
   "file_extension": ".py",
   "mimetype": "text/x-python",
   "name": "python",
   "nbconvert_exporter": "python",
   "pygments_lexer": "ipython3",
   "version": "3.9.12"
  }
 },
 "nbformat": 4,
 "nbformat_minor": 5
}
